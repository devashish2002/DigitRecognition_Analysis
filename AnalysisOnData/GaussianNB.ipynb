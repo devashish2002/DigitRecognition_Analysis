{
 "cells": [
  {
   "cell_type": "code",
   "execution_count": 1,
   "metadata": {
    "collapsed": true
   },
   "outputs": [],
   "source": [
    "import numpy as np\n",
    "from matplotlib import pyplot as plt\n",
    "%matplotlib inline\n",
    "import sklearn\n",
    "from sklearn.naive_bayes import BaseNB, GaussianNB\n",
    "import pandas as pd\n",
    "import datetime"
   ]
  },
  {
   "cell_type": "code",
   "execution_count": 3,
   "metadata": {},
   "outputs": [
    {
     "name": "stdout",
     "output_type": "stream",
     "text": [
      "(42000, 785)\n"
     ]
    }
   ],
   "source": [
    "ds = pd.read_csv('/home/devashish/Downloads/train.csv')\n",
    "data = ds.values\n",
    "print data.shape"
   ]
  },
  {
   "cell_type": "code",
   "execution_count": 4,
   "metadata": {},
   "outputs": [
    {
     "name": "stdout",
     "output_type": "stream",
     "text": [
      "(42000, 784)\n",
      "33.4089111698 9.77358783474e-17\n",
      "78.6777397608 1.0\n"
     ]
    }
   ],
   "source": [
    "X = data[:, 1:]\n",
    "print X.shape\n",
    "\n",
    "Z = (X-X.mean())/X.std()\n",
    "\n",
    "print X.mean(), Z.mean()\n",
    "print X.std(), Z.std()"
   ]
  },
  {
   "cell_type": "code",
   "execution_count": 5,
   "metadata": {},
   "outputs": [
    {
     "name": "stdout",
     "output_type": "stream",
     "text": [
      "(33600, 784) (8400, 784)\n",
      "(33600,) (8400,)\n"
     ]
    }
   ],
   "source": [
    "split = int(0.8 * Z.shape[0])\n",
    "X_train = Z[:split]\n",
    "X_test = Z[split:]\n",
    "y_train = data[:split, 0]      #labels of training set\n",
    "y_test = data[split:, 0]       #labels of testing set \n",
    "\n",
    "print X_train.shape, X_test.shape\n",
    "print y_train.shape, y_test.shape"
   ]
  },
  {
   "cell_type": "code",
   "execution_count": 6,
   "metadata": {},
   "outputs": [
    {
     "name": "stdout",
     "output_type": "stream",
     "text": [
      "training time: 0:00:01.174956\n",
      "0.561904761905\n"
     ]
    }
   ],
   "source": [
    "nb = GaussianNB()\n",
    "start=datetime.datetime.now()\n",
    "nb.fit(X_train, y_train)\n",
    "end=datetime.datetime.now()\n",
    "print \"training time:\",end-start\n",
    "\n",
    "#calculating accuracy of prediction of test data\n",
    "print nb.score(X_test, y_test)"
   ]
  },
  {
   "cell_type": "code",
   "execution_count": 7,
   "metadata": {},
   "outputs": [
    {
     "name": "stdout",
     "output_type": "stream",
     "text": [
      "accuracy: 56.1904761905\n"
     ]
    }
   ],
   "source": [
    "print \"accuracy:\",nb.score(X_test,y_test)*100"
   ]
  },
  {
   "cell_type": "code",
   "execution_count": null,
   "metadata": {
    "collapsed": true
   },
   "outputs": [],
   "source": []
  }
 ],
 "metadata": {
  "kernelspec": {
   "display_name": "Python 2",
   "language": "python",
   "name": "python2"
  },
  "language_info": {
   "codemirror_mode": {
    "name": "ipython",
    "version": 2
   },
   "file_extension": ".py",
   "mimetype": "text/x-python",
   "name": "python",
   "nbconvert_exporter": "python",
   "pygments_lexer": "ipython2",
   "version": "2.7.13"
  }
 },
 "nbformat": 4,
 "nbformat_minor": 2
}
