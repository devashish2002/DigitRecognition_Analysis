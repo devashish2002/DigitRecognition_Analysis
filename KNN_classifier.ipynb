{
 "cells": [
  {
   "cell_type": "code",
   "execution_count": 1,
   "metadata": {
    "collapsed": true
   },
   "outputs": [],
   "source": [
    "import numpy as np\n",
    "from matplotlib import pyplot as plt\n",
    "%matplotlib inline"
   ]
  },
  {
   "cell_type": "code",
   "execution_count": 2,
   "metadata": {},
   "outputs": [
    {
     "name": "stdout",
     "output_type": "stream",
     "text": [
      "(1000, 2)\n",
      "(1000, 2)\n"
     ]
    },
    {
     "name": "stderr",
     "output_type": "stream",
     "text": [
      "/home/devashish/anaconda2/lib/python2.7/site-packages/ipykernel_launcher.py:8: RuntimeWarning: covariance is not positive-semidefinite.\n",
      "  \n"
     ]
    }
   ],
   "source": [
    "mean_1 = np.array([0, 0])\n",
    "cov_1 = np.array([[1, 0], [0, 1]])\n",
    "\n",
    "mean_2 = np.array([4, 3])\n",
    "cov_2 = np.array([[0.9, 0.5], [0.1, 0.8]])\n",
    "\n",
    "dist_1 = np.random.multivariate_normal(mean_1, cov_1, 1000)\n",
    "dist_2 = np.random.multivariate_normal(mean_2, cov_2, 1000)\n",
    "print dist_1.shape\n",
    "print dist_2.shape"
   ]
  },
  {
   "cell_type": "code",
   "execution_count": 3,
   "metadata": {},
   "outputs": [
    {
     "data": {
      "image/png": "[encoded data removed]",
      "text/plain": [
       "<matplotlib.figure.Figure at 0x7f0ffe6a37d0>"
      ]
     },
     "metadata": {},
     "output_type": "display_data"
    }
   ],
   "source": [
    "\n",
    "plt.figure(0)\n",
    "plt.scatter(dist_1[:, 0], dist_1[:, 1], color='red')\n",
    "plt.scatter(dist_2[:, 0], dist_2[:, 1], color='green')\n",
    "plt.show()"
   ]
  },
  {
   "cell_type": "code",
   "execution_count": 4,
   "metadata": {},
   "outputs": [
    {
     "name": "stdout",
     "output_type": "stream",
     "text": [
      "(2000, 2)\n",
      "(2000,)\n"
     ]
    }
   ],
   "source": [
    "N_pts = dist_1.shape[0] + dist_2.shape[0]\n",
    "data = np.zeros((N_pts, dist_1.shape[1]))\n",
    "print data.shape\n",
    "labels = np.zeros((N_pts,))\n",
    "print labels.shape"
   ]
  },
  {
   "cell_type": "code",
   "execution_count": 5,
   "metadata": {
    "collapsed": true
   },
   "outputs": [],
   "source": [
    "\n",
    "data[:1000, :] = dist_1\n",
    "data[1000:, :] = dist_2\n",
    "\n",
    "labels[:1000] = 0\n",
    "labels[1000:] = 1"
   ]
  },
  {
   "cell_type": "code",
   "execution_count": 6,
   "metadata": {},
   "outputs": [
    {
     "name": "stdout",
     "output_type": "stream",
     "text": [
      "1.41421356237\n"
     ]
    }
   ],
   "source": [
    "def dist(a, b):\n",
    "    # assuming a and b are ndarrays\n",
    "    return np.sqrt(((b-a)**2).sum())\n",
    "\n",
    "print dist(np.array([0, 0]), np.array([1, 1]))"
   ]
  },
  {
   "cell_type": "code",
   "execution_count": 7,
   "metadata": {
    "collapsed": true
   },
   "outputs": [],
   "source": [
    "def knn(X_train, labels, X_test, k=5):\n",
    "    n_train = X_train.shape[0]\n",
    "    n_test = X_test.shape[0]\n",
    "    \n",
    "    test_lab = []\n",
    "    \n",
    "    for iy in range(n_test):\n",
    "        distances = []\n",
    "        for ix in range(n_train):\n",
    "            d = dist(X_train[ix], X_test[iy])\n",
    "            distances.append([d, labels[ix]])\n",
    "        dist_sort = sorted(distances)\n",
    "        k_neighbours = np.asarray(dist_sort)[:k]\n",
    "        unique, neighbours = np.unique(k_neighbours[:, 1], return_counts=True)\n",
    "        f = dict(zip(unique, neighbours))\n",
    "        print f\n",
    "        test_lab.append(f)\n",
    "        print '-----------------------'\n",
    "    return test_lab\n"
   ]
  },
  {
   "cell_type": "code",
   "execution_count": 8,
   "metadata": {},
   "outputs": [
    {
     "name": "stdout",
     "output_type": "stream",
     "text": [
      "{1.0: 7}\n",
      "-----------------------\n",
      "{0.0: 2, 1.0: 5}\n",
      "-----------------------\n",
      "[{1.0: 7}, {0.0: 2, 1.0: 5}]\n"
     ]
    }
   ],
   "source": [
    "test_pt = np.array([[4, 0], [1, 4]])\n",
    "pred = knn(data, labels, test_pt, k=7)\n",
    "print pred"
   ]
  },
  {
   "cell_type": "code",
   "execution_count": null,
   "metadata": {
    "collapsed": true
   },
   "outputs": [],
   "source": []
  }
 ],
 "metadata": {
  "kernelspec": {
   "display_name": "Python 2",
   "language": "python",
   "name": "python2"
  },
  "language_info": {
   "codemirror_mode": {
    "name": "ipython",
    "version": 2
   },
   "file_extension": ".py",
   "mimetype": "text/x-python",
   "name": "python",
   "nbconvert_exporter": "python",
   "pygments_lexer": "ipython2",
   "version": "2.7.13"
  }
 },
 "nbformat": 4,
 "nbformat_minor": 2
}
